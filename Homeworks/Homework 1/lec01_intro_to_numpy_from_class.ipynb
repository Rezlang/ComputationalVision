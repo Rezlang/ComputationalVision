{
 "cells": [
  {
   "cell_type": "markdown",
   "metadata": {},
   "source": [
    "<h2>CSCI 4270/6270<br>Computational Vision<br>Prof. Chuck Stewart</h2>\n",
    "<h3>Lecture 01 --- Introduction to NumPy<br>January 9, 2024</h3>"
   ]
  },
  {
   "cell_type": "markdown",
   "metadata": {},
   "source": [
    "### NumPy: Numerical Python\n",
    "\n",
    "Array programming.\n",
    "+ Compact (few for loops)\n",
    "+ Clear\n",
    "+ Powerful\n",
    "+ Efficient - speeds nearing those of compiled languages\n",
    "\n",
    "Upshot:\n",
    "+ You must learn to be proficient at array programming\n",
    "\n",
    "\n",
    "See, for example: \n",
    "+ Charles R. Harris et al., Array Programming with NumPy, *Nature*, volume 585, pages 357–362(2020)\n",
    "\n",
    "Images are large three dimensional arrays\n",
    "+ IPhone 15 default setting is : 6000 x 4000 x 3\n",
    "+ Typically we will work with reduced resolution images\n"
   ]
  },
  {
   "cell_type": "markdown",
   "metadata": {},
   "source": [
    "### Overview of the Basics\n",
    "\n",
    "Here is an outline of the topics we will cover in class.  What we write to fill in will be posted both as an html file and as a Jupyter notebook.\n",
    "+ A first example\n",
    "+ Array creation\n",
    "+ Array dimensions\n",
    "+ Changing shape\n",
    "+ Indexing and slicing\n",
    "+ Views and copying\n",
    "+ Arithmetic operators\n",
    "+ Universal functions\n",
    "+ Concatenating and splitting\n",
    "+ Summary of differences between NumPy arrays and Python lists\n",
    "\n",
    "See the Submitty page for links to on-line tutorials"
   ]
  },
  {
   "cell_type": "markdown",
   "metadata": {},
   "source": [
    "### A first example\n",
    "We'll start with an example showing\n",
    "+ Initial creation\n",
    "+ Reshaping from one dimension to two\n",
    "+ Indexing to access and change values\n",
    "+ Single data type:  dtype\n",
    "+ The type of the array object"
   ]
  },
  {
   "cell_type": "code",
   "execution_count": 1,
   "metadata": {},
   "outputs": [
    {
     "name": "stdout",
     "output_type": "stream",
     "text": [
      "[1 5 3 7 9 4]\n",
      "<class 'numpy.ndarray'>\n",
      "int64\n",
      "(6,)\n",
      "[[1 5 3]\n",
      " [7 9 4]]\n",
      "(2, 3)\n",
      "[[ 1 99  3]\n",
      " [ 7  9  4]]\n",
      "a = [ 1 99  3  7  9  4]\n",
      "v = [1, 5, 3, 7, 9, 4]\n"
     ]
    }
   ],
   "source": [
    "import numpy as np\n",
    "# We'll look at creating an array from a python list, printing its shape, and making shallow copies\n",
    "v = [1, 5, 3, 7, 9, 4]\n",
    "a = np.array(v)\n",
    "print(a)\n",
    "print(type(a))\n",
    "print(a.dtype)\n",
    "print(a.shape)\n",
    "b = a.reshape(2, 3)\n",
    "print(b)\n",
    "print(b.shape)\n",
    "b[0,1] = 99\n",
    "print(b)\n",
    "print('a =', a)\n",
    "print('v =', v)"
   ]
  },
  {
   "cell_type": "markdown",
   "metadata": {},
   "source": [
    "### Array creation\n",
    "Many methods to explore:\n",
    "+ Creating directly from a list or from lists of lists\n",
    "+ arange\n",
    "+ linspace\n",
    "+ random\n",
    "+ eye\n",
    "+ ones\n",
    "+ zeros\n",
    "+ setting the data type\n"
   ]
  },
  {
   "cell_type": "code",
   "execution_count": 2,
   "metadata": {},
   "outputs": [
    {
     "name": "stdout",
     "output_type": "stream",
     "text": [
      "[ 0  1  2  3  4  5  6  7  8  9 10 11 12 13 14 15 16 17 18 19 20 21 22 23\n",
      " 24 25 26 27 28 29 30 31 32 33 34 35 36 37 38 39 40 41 42 43 44 45 46 47]\n",
      "[[[ 0  1  2  3  4  5  6  7]\n",
      "  [ 8  9 10 11 12 13 14 15]\n",
      "  [16 17 18 19 20 21 22 23]]\n",
      "\n",
      " [[24 25 26 27 28 29 30 31]\n",
      "  [32 33 34 35 36 37 38 39]\n",
      "  [40 41 42 43 44 45 46 47]]]\n"
     ]
    }
   ],
   "source": [
    "# Array creation examples, starting with np.arange() and demoing reshape\n",
    "a = np.arange(48)\n",
    "print(a)\n",
    "b = a.reshape(2, 3, 8)\n",
    "print(b)"
   ]
  },
  {
   "cell_type": "code",
   "execution_count": 4,
   "metadata": {},
   "outputs": [
    {
     "name": "stdout",
     "output_type": "stream",
     "text": [
      "[0.  0.1 0.2 0.3 0.4 0.5 0.6 0.7 0.8 0.9 1. ]\n",
      "[0.  0.1 0.2 0.3 0.4 0.5 0.6 0.7 0.8 0.9]\n"
     ]
    }
   ],
   "source": [
    "# linspace (linear space); endpoints are included by default\n",
    "c = np.linspace(0, 1, 11)\n",
    "print(c)\n",
    "\n",
    "d = np.linspace(0, 1, 10, endpoint=False)\n",
    "print(d)"
   ]
  },
  {
   "cell_type": "code",
   "execution_count": 5,
   "metadata": {},
   "outputs": [
    {
     "name": "stdout",
     "output_type": "stream",
     "text": [
      "[0.67610593 0.81429644 0.112854   0.04853811 0.13835661 0.80540944\n",
      " 0.74793372 0.19980743 0.37639499 0.13000692 0.69726534 0.55321366\n",
      " 0.52779192 0.26351685 0.12364182]\n",
      "[[13 12 19]\n",
      " [13 19 11]\n",
      " [12 19 10]\n",
      " [11 18 10]\n",
      " [13 19 11]\n",
      " [17 16 16]]\n"
     ]
    }
   ],
   "source": [
    "# np.random.random (uniform float in [0,1]) and np.random.randint (uniform in the specified range\n",
    "# both require shape tuples)\n",
    "a = np.random.random(15)\n",
    "print(a)\n",
    "b = np.random.randint(10, 20, (6,3))\n",
    "print(b)"
   ]
  },
  {
   "cell_type": "code",
   "execution_count": 6,
   "metadata": {},
   "outputs": [
    {
     "data": {
      "text/plain": [
       "array([[0., 0., 0., 0., 0.],\n",
       "       [1., 0., 0., 0., 0.],\n",
       "       [0., 1., 0., 0., 0.],\n",
       "       [0., 0., 1., 0., 0.]])"
      ]
     },
     "execution_count": 6,
     "metadata": {},
     "output_type": "execute_result"
    }
   ],
   "source": [
    "# np.eye gives an identity matrix, and you can optionally \n",
    "# choose the diagoanl with optional k parameter\n",
    "np.eye(4, 5, k=-1)\n"
   ]
  },
  {
   "cell_type": "code",
   "execution_count": 12,
   "metadata": {},
   "outputs": [
    {
     "name": "stdout",
     "output_type": "stream",
     "text": [
      "int32\n"
     ]
    }
   ],
   "source": [
    "# np.ones and np.zeros\n",
    "a = np.zeros((6, 4), dtype=np.int32)\n",
    "print(a.dtype)"
   ]
  },
  {
   "cell_type": "code",
   "execution_count": null,
   "metadata": {},
   "outputs": [],
   "source": []
  },
  {
   "cell_type": "markdown",
   "metadata": {},
   "source": [
    "### Array dimensions\n",
    "+ 1-d: a row vector\n",
    "+ 2-d: a traditional array with rows indexed first and columns indexed second\n",
    "+ n-d: nested dimensions read from outside in\n",
    "+ Can even have 0-d, which is essentially a scalar, but we will not spend any time on this\n",
    "\n"
   ]
  },
  {
   "cell_type": "code",
   "execution_count": 13,
   "metadata": {},
   "outputs": [
    {
     "name": "stdout",
     "output_type": "stream",
     "text": [
      "[[[ 0  1  2  3  4  5  6  7]\n",
      "  [ 8  9 10 11 12 13 14 15]\n",
      "  [16 17 18 19 20 21 22 23]]\n",
      "\n",
      " [[24 25 26 27 28 29 30 31]\n",
      "  [32 33 34 35 36 37 38 39]\n",
      "  [40 41 42 43 44 45 46 47]]]\n"
     ]
    }
   ],
   "source": [
    "# We'll focus on 3d \n",
    "print(np.arange(48).reshape((2,3,8)))\n"
   ]
  },
  {
   "cell_type": "markdown",
   "metadata": {},
   "source": [
    "### Shapes and reshaping\n",
    "+ We can reshape a NumPy array to any other shape that uses the same number of values\n",
    "+ The shape may be assigned as an l-value and accessed as an r-value\n",
    "    + It is simply an attribute of each NumPy array\n",
    "+ ravel and flatten create 1d versions of arrays\n",
    "    + ravel creates a shallow copy, while flatten creates a deep copy."
   ]
  },
  {
   "cell_type": "code",
   "execution_count": 16,
   "metadata": {},
   "outputs": [
    {
     "name": "stdout",
     "output_type": "stream",
     "text": [
      "[[ 4 19 12]\n",
      " [93 45 16]]\n",
      "[ 4 19 12 93 45 16]\n"
     ]
    }
   ],
   "source": [
    "# Examples of shape and reshaping, including ravel and flatten \n",
    "# (note the aliasing)\n",
    "v = [4, 19, 12, 93, 45, 16]\n",
    "a = np.array(v)\n",
    "a.shape = (2,3)\n",
    "print(a)\n",
    "u = a.ravel()\n",
    "print(u)\n",
    "\n",
    "\n"
   ]
  },
  {
   "cell_type": "markdown",
   "metadata": {},
   "source": [
    "### Indexing and slicing\n",
    "+ Initial intuitions are similar to operations on Python lists\n",
    "    + Watch out though for important differences that will emerge, starting with syntax\n",
    "+ 1d, 2d, and more\n",
    "+ Leaving out a dimension (at the end) gives the entire contents of that dimension"
   ]
  },
  {
   "cell_type": "code",
   "execution_count": 17,
   "metadata": {},
   "outputs": [
    {
     "name": "stdout",
     "output_type": "stream",
     "text": [
      "[[ 0  1  2  3  4]\n",
      " [ 5  6  7  8  9]\n",
      " [10 11 12 13 14]\n",
      " [15 16 17 18 19]]\n",
      "[[11 12]\n",
      " [16 17]]\n"
     ]
    },
    {
     "data": {
      "text/plain": [
       "array([0, 1, 2, 3, 4])"
      ]
     },
     "execution_count": 17,
     "metadata": {},
     "output_type": "execute_result"
    }
   ],
   "source": [
    "# Examples of indexing and slicing\n",
    "# 1. 2d array, 2d subarray, 1d subarray\n",
    "a = np.arange(20).reshape((4,5))\n",
    "print(a)\n",
    "b = a[2:4, 1:3]\n",
    "print(b)\n",
    "a[0]"
   ]
  },
  {
   "cell_type": "code",
   "execution_count": 20,
   "metadata": {},
   "outputs": [
    {
     "name": "stdout",
     "output_type": "stream",
     "text": [
      "[[[ 0 13  1  4]\n",
      "  [17 16 16 16]\n",
      "  [13 12 17 16]]\n",
      "\n",
      " [[17  4 14 13]\n",
      "  [ 3  9  1  1]\n",
      "  [13 19 18  4]]]\n",
      "\n",
      "[[17  4 14 13]\n",
      " [ 3  9  1  1]\n",
      " [13 19 18  4]]\n",
      "\n",
      "[3 9 1 1]\n"
     ]
    }
   ],
   "source": [
    "# 2. 3d example down to 2d\n",
    "a = np.random.randint(0, 20, (2,3,4))\n",
    "print(a)\n",
    "print()\n",
    "print(a[1])\n",
    "print()\n",
    "print(a[1,1])"
   ]
  },
  {
   "cell_type": "code",
   "execution_count": 22,
   "metadata": {},
   "outputs": [
    {
     "name": "stdout",
     "output_type": "stream",
     "text": [
      "[3 9 1 1]\n",
      "\n",
      "[[16 16 16]\n",
      " [12 17 16]]\n"
     ]
    }
   ],
   "source": [
    "print(a[1,1])\n",
    "print()\n",
    "print(a[0, 1:, 1:])"
   ]
  },
  {
   "cell_type": "raw",
   "metadata": {},
   "source": []
  },
  {
   "cell_type": "markdown",
   "metadata": {},
   "source": [
    "### Views and copying\n",
    "+ Unlike lists, when an array is sliced, the result is a view or shallow copy of the array.\n",
    "+ When the slice is an l-value, the contents of the array are changed!\n",
    "    + We will use this soon to insert a picture within a picture"
   ]
  },
  {
   "cell_type": "code",
   "execution_count": 28,
   "metadata": {},
   "outputs": [
    {
     "name": "stdout",
     "output_type": "stream",
     "text": [
      "[[ 0  1  2  3  4]\n",
      " [ 5  6  7  8  9]\n",
      " [10 11 12 13 14]]\n",
      "\n",
      "[[ 7  8]\n",
      " [12 13]]\n",
      "[[99 99]\n",
      " [99 99]]\n",
      "\n",
      "[[ 0  1  2  3  4]\n",
      " [ 5  6 99 99  9]\n",
      " [10 11 99 99 14]]\n"
     ]
    }
   ],
   "source": [
    "# Examples for views and copying\n",
    "# 1. 2d array with subarray assigned to a constant\n",
    "a = np.arange(15).reshape(3,5)\n",
    "print(a)\n",
    "print()\n",
    "b = a[1:, 2:4]\n",
    "print(b)\n",
    "b[:,:] = 99\n",
    "print(b)\n",
    "print()\n",
    "print(a)"
   ]
  },
  {
   "cell_type": "code",
   "execution_count": 29,
   "metadata": {},
   "outputs": [
    {
     "name": "stdout",
     "output_type": "stream",
     "text": [
      "789\n",
      "\n",
      "[[ 0  1  2  3  4]\n",
      " [ 5  6 99 99  9]\n",
      " [10 11 99 99 14]]\n"
     ]
    }
   ],
   "source": [
    "b = 789\n",
    "print(b)\n",
    "print()\n",
    "print(a)"
   ]
  },
  {
   "cell_type": "code",
   "execution_count": 31,
   "metadata": {},
   "outputs": [
    {
     "name": "stdout",
     "output_type": "stream",
     "text": [
      "[[0. 0. 0. 0.]\n",
      " [0. 0. 0. 0.]\n",
      " [0. 0. 0. 0.]]\n",
      "c [[ -94  -93 -100 -100]\n",
      " [ -99  -92  -91 -100]\n",
      " [ -94 -100  -91  -94]]\n",
      "b [[ -94.  -93. -100. -100.]\n",
      " [ -99.  -92.  -91. -100.]\n",
      " [ -94. -100.  -91.  -94.]]\n",
      "c[0,0] -94\n"
     ]
    }
   ],
   "source": [
    "# 2. 2d array with subarray assigned from another array\n",
    "b = np.zeros((3,4))\n",
    "print(b)\n",
    "c = np.random.randint(-100, -90, b.shape)\n",
    "print(\"c\", c)\n",
    "b[:, :] = c[:, :]     # copy all of c into all of b\n",
    "print('b', b)\n",
    "b[0,0] = 333\n",
    "print('c[0,0]', c[0,0])"
   ]
  },
  {
   "cell_type": "code",
   "execution_count": null,
   "metadata": {},
   "outputs": [],
   "source": [
    "# 4. types and d-types\n",
    "print(a.dtype)\n",
    "print(type(a))"
   ]
  },
  {
   "cell_type": "markdown",
   "metadata": {},
   "source": [
    "### Arithmetic operators applied to arrays\n",
    "+ Addition, subtraction, multiplication, etc.\n",
    "    + Note that multiplication is component-wise, rather than standard matrix multiplication\n",
    "    + Achieve matrix multiplication with 'dot' method\n",
    "+ Operators require compatible dimensions.  For example\n",
    "    + A scalar is compatible with any array\n",
    "    + Arrays of the same dimensions are compatible \n",
    "+ A vector and a 2d array may be added if the array has the same number of columns as the length of the vector.\n",
    "    + This is an initial example of NumPy \"broadcast rules\", which we will study in more detail in Lecture 2"
   ]
  },
  {
   "cell_type": "code",
   "execution_count": 32,
   "metadata": {},
   "outputs": [
    {
     "name": "stdout",
     "output_type": "stream",
     "text": [
      "a [[0 1 2 3 4]\n",
      " [5 6 7 8 9]]\n",
      "b [[21 41 53 46 42]\n",
      " [69  9 68 60  4]]\n",
      "a+b [[21 42 55 49 46]\n",
      " [74 15 75 68 13]]\n",
      "a-b [[-21 -40 -51 -43 -38]\n",
      " [-64  -3 -61 -52   5]]\n",
      "a*b [[  0  41 106 138 168]\n",
      " [345  54 476 480  36]]\n"
     ]
    }
   ],
   "source": [
    "# 1. Addition, subtraction, component-wise multiplication\n",
    "a = np.arange(10).reshape(2,5)\n",
    "b = np.random.randint(0,100, (2,5))\n",
    "print('a', a)\n",
    "print('b', b)\n",
    "print('a+b', a+b)\n",
    "print('a-b', a-b)\n",
    "print('a*b', a*b)\n"
   ]
  },
  {
   "cell_type": "code",
   "execution_count": 35,
   "metadata": {},
   "outputs": [
    {
     "name": "stdout",
     "output_type": "stream",
     "text": [
      "[[ 453  341]\n",
      " [1468 1391]]\n",
      "[[ 453  341]\n",
      " [1468 1391]]\n",
      "\n",
      "[[345 435 525 615 705]\n",
      " [ 45  95 145 195 245]\n",
      " [340 461 582 703 824]\n",
      " [300 406 512 618 724]\n",
      " [ 20  66 112 158 204]]\n"
     ]
    }
   ],
   "source": [
    "# 2. Matrix multiplication as a dot product\n",
    "print(np.dot(a, b.T))  # 2x5 times 5x2 -> 2x2\n",
    "print(a @ b.T)\n",
    "print()\n",
    "print(b.T @ a)"
   ]
  },
  {
   "cell_type": "code",
   "execution_count": 40,
   "metadata": {},
   "outputs": [
    {
     "name": "stdout",
     "output_type": "stream",
     "text": [
      "[[[ 0  1  2  3]\n",
      "  [ 4  5  6  7]\n",
      "  [ 8  9 10 11]]\n",
      "\n",
      " [[12 13 14 15]\n",
      "  [16 17 18 19]\n",
      "  [20 21 22 23]]]\n",
      "\n",
      "[[[ 0  4  8]\n",
      "  [ 1  5  9]\n",
      "  [ 2  6 10]\n",
      "  [ 3  7 11]]\n",
      "\n",
      " [[12 16 20]\n",
      "  [13 17 21]\n",
      "  [14 18 22]\n",
      "  [15 19 23]]]\n"
     ]
    }
   ],
   "source": [
    "c = np.arange(24).reshape(2,3,4)\n",
    "print(c)\n",
    "print()\n",
    "print(np.transpose(c, (0, 2, 1)))"
   ]
  },
  {
   "cell_type": "code",
   "execution_count": 43,
   "metadata": {},
   "outputs": [
    {
     "name": "stdout",
     "output_type": "stream",
     "text": [
      "[0 1 2 3 4]\n",
      "\n",
      "[[ 0  1  2  3  4]\n",
      " [ 5  6  7  8  9]\n",
      " [10 11 12 13 14]]\n",
      "\n",
      "[[ 0  2  4  6  8]\n",
      " [ 5  7  9 11 13]\n",
      " [10 12 14 16 18]]\n"
     ]
    }
   ],
   "source": [
    "# 3. Vector added to 2d array\n",
    "a = np.arange(5)\n",
    "b = np.arange(15).reshape(3, 5)\n",
    "print(a)\n",
    "print()\n",
    "print(b)\n",
    "print()\n",
    "print(a+b)"
   ]
  },
  {
   "cell_type": "markdown",
   "metadata": {},
   "source": [
    "### Universal functions - Applied to entire array\n",
    "+ We'll look at just a few important examples (of many):\n",
    "    + Average, dot, max, sum, cumsum\n",
    "+ Can specify the axis along which the function is applied\n",
    "+ Some functions, like argmax, give results that are defined in terms of the 1d, raveled version of the array!"
   ]
  },
  {
   "cell_type": "code",
   "execution_count": 57,
   "metadata": {},
   "outputs": [
    {
     "name": "stdout",
     "output_type": "stream",
     "text": [
      "[[ 0 10 15 93 80]\n",
      " [32  0 42 23 98]\n",
      " [ 2 67 55  6 73]]\n"
     ]
    }
   ],
   "source": [
    "# Universal function examples\n",
    "# 1. Max, average, sum\n",
    "b = np.random.randint(0, 100, (3, 5))\n",
    "print(b)\n",
    "\n"
   ]
  },
  {
   "cell_type": "code",
   "execution_count": 58,
   "metadata": {},
   "outputs": [
    {
     "name": "stdout",
     "output_type": "stream",
     "text": [
      "max of b 98\n",
      "sum of b 596\n",
      "avg of b 39.733333333333334\n"
     ]
    }
   ],
   "source": [
    "print('max of b', np.max(b))\n",
    "print('sum of b', np.sum(b))\n",
    "print('avg of b', np.average(b))"
   ]
  },
  {
   "cell_type": "code",
   "execution_count": 59,
   "metadata": {},
   "outputs": [
    {
     "name": "stdout",
     "output_type": "stream",
     "text": [
      "[32 67 55 93 98]\n",
      "[93 98 73]\n"
     ]
    }
   ],
   "source": [
    "# 2. Operations applied along an axis, e.g. max in each row\n",
    "print(np.max(b, axis=0))\n",
    "print(np.max(b, axis=1))"
   ]
  },
  {
   "cell_type": "code",
   "execution_count": 60,
   "metadata": {},
   "outputs": [
    {
     "name": "stdout",
     "output_type": "stream",
     "text": [
      "[[ 0 10 15 93 80]\n",
      " [32  0 42 23 98]\n",
      " [ 2 67 55  6 73]]\n",
      "[  0  10  25 118 198 230 230 272 295 393 395 462 517 523 596]\n"
     ]
    }
   ],
   "source": [
    "# 3. Cumulative summations along an axis\n",
    "# As above...\n",
    "print(b)\n",
    "print(np.cumsum(b))\n"
   ]
  },
  {
   "cell_type": "code",
   "execution_count": 61,
   "metadata": {},
   "outputs": [
    {
     "name": "stdout",
     "output_type": "stream",
     "text": [
      "[[  0  10  25 118 198]\n",
      " [230 230 272 295 393]\n",
      " [395 462 517 523 596]]\n"
     ]
    }
   ],
   "source": [
    "# 4. Cumulative summation and ravel and reshape\n",
    "print(np.cumsum(b).reshape(b.shape))\n"
   ]
  },
  {
   "cell_type": "code",
   "execution_count": 65,
   "metadata": {},
   "outputs": [
    {
     "name": "stdout",
     "output_type": "stream",
     "text": [
      "[[ 0 10 15 93 80]\n",
      " [32  0 42 23 98]\n",
      " [ 2 67 55  6 73]]\n",
      "98\n",
      "[ 0 10 15 93 80 32  0 42 23 98  2 67 55  6 73]\n",
      "9\n",
      "(1, 4)\n"
     ]
    }
   ],
   "source": [
    "# 5. Use of unravel_index tells where i-th entry will be in an array\n",
    "#. Goal:  what are the indices of the max value of a?\n",
    "print(b)\n",
    "print(np.max(b))\n",
    "\n",
    "print(np.ravel(b))\n",
    "\n",
    "print(np.argmax(b))  # gives it in unraveled version\n",
    "i = np.argmax(b)\n",
    "print(np.unravel_index(i, b.shape))   # interpret i in the shape of b\n",
    "\n"
   ]
  },
  {
   "cell_type": "markdown",
   "metadata": {},
   "source": [
    "### Combining and splitting arrays\n",
    "+ concatenate:\n",
    "    + Give tuple of arrays and specify axis along which to combine\n",
    "    + Arrays dimensions must match exactly except along the axis\n",
    "+ Split using indices\n",
    "+ We'll look at example of combining 2d arrays into another 2d array, but also extending to 3d using the stack method\n",
    "    + Useful for splitting and combining images"
   ]
  },
  {
   "cell_type": "code",
   "execution_count": 75,
   "metadata": {},
   "outputs": [
    {
     "name": "stdout",
     "output_type": "stream",
     "text": [
      "[[0 1 2 3 4]\n",
      " [5 6 7 8 9]]\n",
      "[[90 91 92 93 94]\n",
      " [95 96 97 98 99]]\n",
      "\n",
      "[[ 0  1  2  3  4]\n",
      " [ 5  6  7  8  9]\n",
      " [90 91 92 93 94]\n",
      " [95 96 97 98 99]]\n",
      "[[ 0  1  2  3  4 90 91 92 93 94]\n",
      " [ 5  6  7  8  9 95 96 97 98 99]]\n",
      "[[ 0  1  2  3  4  0  1  2  3  4  5  6  7  8  9]\n",
      " [ 5  6  7  8  9 10 11 12 13 14 15 16 17 18 19]]\n"
     ]
    }
   ],
   "source": [
    "# Concatenate two dimensional arrays\n",
    "a = np.arange(10).reshape(2,5)\n",
    "b = np.arange(90,100).reshape(2,5)\n",
    "print(a)\n",
    "print(b)\n",
    "print()\n",
    "print(np.concatenate((a,b), axis=0))  # stack them up\n",
    "print(np.concatenate((a,b), axis=1))  # iterate in column index\n",
    "c = np.arange(20).reshape(2,10)\n",
    "d = np.concatenate((a,c), axis=1)   # only have to be the same shape along the axis\n",
    "print(d)\n",
    "# print(np.concatenate((a,c), axis=0))\n"
   ]
  },
  {
   "cell_type": "code",
   "execution_count": 72,
   "metadata": {},
   "outputs": [
    {
     "name": "stdout",
     "output_type": "stream",
     "text": [
      "[[ 0  1  2  3  4  0  1  2  3  4  5  6  7  8  9]\n",
      " [ 5  6  7  8  9 10 11 12 13 14 15 16 17 18 19]]\n",
      "4\n",
      "split 0\n",
      " [[0 1 2 3]\n",
      " [5 6 7 8]]\n",
      "split 1\n",
      " [[ 4  0  1  2  3  4  5]\n",
      " [ 9 10 11 12 13 14 15]]\n"
     ]
    }
   ],
   "source": [
    "# Split the result - split returns a Python list of NumPy arrays\n",
    "v = np.split(d, (4, 11, 13), axis=1)   # python array with 4 NumPy arrays\n",
    "print(d)\n",
    "print(len(v))\n",
    "print('split 0\\n', v[0])\n",
    "print('split 1\\n', v[1])"
   ]
  },
  {
   "cell_type": "code",
   "execution_count": null,
   "metadata": {},
   "outputs": [],
   "source": [
    "# Stack\n"
   ]
  },
  {
   "cell_type": "code",
   "execution_count": 74,
   "metadata": {},
   "outputs": [
    {
     "name": "stdout",
     "output_type": "stream",
     "text": [
      "[[0 1 2]\n",
      " [3 4 5]]\n"
     ]
    },
    {
     "data": {
      "text/plain": [
       "array([[0, 1, 2, 0, 1, 2],\n",
       "       [3, 4, 5, 3, 4, 5],\n",
       "       [0, 1, 2, 0, 1, 2],\n",
       "       [3, 4, 5, 3, 4, 5],\n",
       "       [0, 1, 2, 0, 1, 2],\n",
       "       [3, 4, 5, 3, 4, 5],\n",
       "       [0, 1, 2, 0, 1, 2],\n",
       "       [3, 4, 5, 3, 4, 5]])"
      ]
     },
     "execution_count": 74,
     "metadata": {},
     "output_type": "execute_result"
    }
   ],
   "source": [
    "# Tile\n",
    "a = np.arange(6).reshape(2,3)\n",
    "print(a)\n",
    "np.tile(a, (4, 2))"
   ]
  },
  {
   "cell_type": "markdown",
   "metadata": {},
   "source": [
    "### NumPy arrays vs. Python lists, revisited\n",
    "+ NumPy arrays are homogeneous; Python lists are heterogeneous\n",
    "+ Slicing a NumPy array creates a view without copying; slicing a Python list creates a new list\n",
    "+ Many functional and numeric operations have been created for NumPy arrays"
   ]
  }
 ],
 "metadata": {
  "kernelspec": {
   "display_name": "Python 3 (ipykernel)",
   "language": "python",
   "name": "python3"
  },
  "language_info": {
   "codemirror_mode": {
    "name": "ipython",
    "version": 3
   },
   "file_extension": ".py",
   "mimetype": "text/x-python",
   "name": "python",
   "nbconvert_exporter": "python",
   "pygments_lexer": "ipython3",
   "version": "3.9.18"
  }
 },
 "nbformat": 4,
 "nbformat_minor": 4
}
