{
 "cells": [
  {
   "cell_type": "code",
   "execution_count": 2,
   "id": "e8a267af-adce-4e6a-9574-ba06a3354196",
   "metadata": {},
   "outputs": [],
   "source": [
    "\"\"\"\n",
    "Author:   Chuck Stewart\n",
    "Course:   CSCI 4270 and 6270\n",
    "Lecture:  02\n",
    "File:     ex5_stretch_img.ipynb\n",
    "\n",
    "Purpose: Linearly stretch the gray scale intensities of an input image\n",
    "based on the cutoff fraction, f, provided on the command-line.  First\n",
    "we find the maximum intensity --- call it g0 --- such that f of the\n",
    "pixels have intensity less than or equal to g0.  Then we find the\n",
    "minimum intensity --- call it g1 --- such that f of the pixels in\n",
    "the image have intensity greater than or equal to g1.  Then we map the\n",
    "intensities as follows:\n",
    "\n",
    "  . All intensities <= g0 are mapped to 0\n",
    "  . All intensitiess >= g1 are mapped to 255\n",
    "  . Intensities from g0 to g1 are linearly stretched into the range\n",
    "    [0,255]\n",
    "\n",
    "NumPy:  This demonstrates the use of NumPy histograms, cumulative\n",
    "distributions, the where function, indexing with a boolean array, and\n",
    "image arithmetic.\n",
    "\"\"\"\n",
    "\n",
    "import cv2\n",
    "import numpy as np\n",
    "from matplotlib import pyplot as plt"
   ]
  },
  {
   "cell_type": "code",
   "execution_count": 3,
   "id": "10aed1fd-26dd-4427-9de7-f6d4f3fae061",
   "metadata": {},
   "outputs": [
    {
     "name": "stdout",
     "output_type": "stream",
     "text": [
      "Image name: /Users/stewart/Dropbox/cv_2024_spring/lec02_images/images/trees_gray.png\n",
      "Image shape: (426, 640)\n"
     ]
    }
   ],
   "source": [
    "\"\"\"\n",
    "Read the image, converting it to grayscale (or preserving it as grayscale).\n",
    "\"\"\"\n",
    "image_fn = \"/Users/stewart/Dropbox/cv_2024_spring/lec02_images/images/trees_gray.png\"\n",
    "im = cv2.imread(image_fn, cv2.IMREAD_GRAYSCALE)\n",
    "print(f'Image name: {image_fn}\\nImage shape: {im.shape}')"
   ]
  },
  {
   "cell_type": "code",
   "execution_count": 4,
   "id": "b6523f1d-4d00-456f-94a1-5293ff0522c7",
   "metadata": {},
   "outputs": [],
   "source": [
    "'''\n",
    "Set the cutoff fraction. It should be between 0 and 0.5, but generally pretty close to 0.\n",
    "'''\n",
    "f = 0.05"
   ]
  },
  {
   "cell_type": "code",
   "execution_count": null,
   "id": "002706a2-7856-42fb-949d-23695d030770",
   "metadata": {
    "scrolled": true
   },
   "outputs": [],
   "source": [
    "'''\n",
    "The first half of the real work: Form the histogram, convert it to\n",
    "cumulative distribution, and find the g0 and g1 cutoffs. We do this\n",
    "all in 6 lines of NumPy code!\n",
    "'''\n",
    "hist, bins = np.histogram(im, bins=256, range=(0, 255))  # Use NumPy's histogram rather than OpenCV\n",
    "cum_dist = np.cumsum(hist) / np.sum(hist)\n",
    "below_cutoff = np.where(cum_dist <= f)[0]\n",
    "g0 = below_cutoff[-1]\n",
    "above_cutoff = np.where(cum_dist >= 1-f)[0]\n",
    "g1 = above_cutoff[0]\n",
    "print(f'Using a cutoff fraction of {f}\\n' +\n",
    "      f'gives g0 = {g0}\\n' +\n",
    "      f'and g1 = {g1}')"
   ]
  },
  {
   "cell_type": "code",
   "execution_count": null,
   "id": "8050c97c-c47c-4dd6-b300-9bd151d9a985",
   "metadata": {},
   "outputs": [],
   "source": [
    "'''\n",
    "Run this cell when you want to see the details of the histogram and the cumulative distribution.\n",
    "'''\n",
    "print(\"Histogram\")\n",
    "for i, v in enumerate(hist):\n",
    "    print(f'\\t{i:3d}: {v:5d}')\n",
    "print()\n",
    "print(\"Cumulative distribution\")\n",
    "for i, v in enumerate(cum_dist):\n",
    "    print(f'\\t{i:3d}: {v:7.4bf}')"
   ]
  },
  {
   "cell_type": "code",
   "execution_count": null,
   "id": "bb6e6a78-9c62-46bc-833b-12dfb8feb475",
   "metadata": {},
   "outputs": [],
   "source": [
    "'''\n",
    "Here is the second half of the real work:  compute the scaled\n",
    "image by truncating values below g0 at g0, truncating values above\n",
    "g1 at g1, and linearly scaling the result into the range 0..255.\n",
    "The procedure is slightly different from what was described in the\n",
    "introductory comments, but the result is the same.\n",
    "'''\n",
    "im_scaled = im.copy()    # requires a deep copy\n",
    "im_scaled[im_scaled < g0] = g0\n",
    "im_scaled[im_scaled > g1] = g1\n",
    "im_scaled = (im_scaled - g0) / (g1 - g0) * 255\n",
    "im_scaled = im_scaled.astype(im.dtype)"
   ]
  },
  {
   "cell_type": "code",
   "execution_count": null,
   "id": "b95f69ff-9e38-4060-b944-8f4ca8da67d8",
   "metadata": {
    "scrolled": true
   },
   "outputs": [],
   "source": [
    "'''\n",
    "Show the two images side-by-side.  vmin and vmax are set so that\n",
    "imshow does not automatically scale the images.\n",
    "'''\n",
    "plt.gray()\n",
    "fig, axes = plt.subplots(1, 2, figsize=(15, 15))\n",
    "axes[0].imshow(im, vmin=0, vmax=255)\n",
    "axes[0].axis('off')\n",
    "axes[0].set_title('Original image i')\n",
    "\n",
    "axes[1].imshow(im_scaled, vmin=0, vmax=255)\n",
    "axes[1].axis('off')\n",
    "axes[1].set_title('Scaled image j')\n",
    "\n",
    "plt.show()"
   ]
  }
 ],
 "metadata": {
  "kernelspec": {
   "display_name": "Python 3 (ipykernel)",
   "language": "python",
   "name": "python3"
  },
  "language_info": {
   "codemirror_mode": {
    "name": "ipython",
    "version": 3
   },
   "file_extension": ".py",
   "mimetype": "text/x-python",
   "name": "python",
   "nbconvert_exporter": "python",
   "pygments_lexer": "ipython3",
   "version": "3.9.18"
  }
 },
 "nbformat": 4,
 "nbformat_minor": 5
}
