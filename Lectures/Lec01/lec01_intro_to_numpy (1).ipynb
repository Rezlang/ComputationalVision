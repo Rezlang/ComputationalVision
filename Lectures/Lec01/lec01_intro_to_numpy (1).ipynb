{
 "cells": [
  {
   "cell_type": "markdown",
   "metadata": {},
   "source": [
    "<h2>CSCI 4270/6270<br>Computational Vision<br>Prof. Chuck Stewart</h2>\n",
    "<h3>Lecture 01 --- Introduction to NumPy<br>January 9, 2024</h3>"
   ]
  },
  {
   "cell_type": "markdown",
   "metadata": {},
   "source": [
    "### NumPy: Numerical Python\n",
    "\n",
    "Array programming.\n",
    "+ Compact (few for loops)\n",
    "+ Clear\n",
    "+ Powerful\n",
    "+ Efficient - speeds nearing those of compiled languages\n",
    "\n",
    "Upshot:\n",
    "+ You must learn to be proficient at array programming\n",
    "\n",
    "\n",
    "See, for example: \n",
    "+ Charles R. Harris et al., Array Programming with NumPy, *Nature*, volume 585, pages 357–362(2020)\n",
    "\n",
    "Images are large three dimensional arrays\n",
    "+ IPhone 15 default setting is : 6000 x 4000 x 3\n",
    "+ Typically we will work with reduced resolution images\n"
   ]
  },
  {
   "cell_type": "markdown",
   "metadata": {},
   "source": [
    "### Overview of the Basics\n",
    "\n",
    "Here is an outline of the topics we will cover in class.  What we write to fill in will be posted both as an html file and as a Jupyter notebook.\n",
    "+ A first example\n",
    "+ Array creation\n",
    "+ Array dimensions\n",
    "+ Changing shape\n",
    "+ Indexing and slicing\n",
    "+ Views and copying\n",
    "+ Arithmetic operators\n",
    "+ Universal functions\n",
    "+ Concatenating and splitting\n",
    "+ Summary of differences between NumPy arrays and Python lists\n",
    "\n",
    "See the Submitty page for links to on-line tutorials"
   ]
  },
  {
   "cell_type": "markdown",
   "metadata": {},
   "source": [
    "### A first example\n",
    "We'll start with an example showing\n",
    "+ Initial creation\n",
    "+ Reshaping from one dimension to two\n",
    "+ Indexing to access and change values\n",
    "+ Single data type:  dtype\n",
    "+ The type of the array object"
   ]
  },
  {
   "cell_type": "code",
   "execution_count": null,
   "metadata": {},
   "outputs": [],
   "source": [
    "import numpy as np\n",
    "# We'll look at creating an array from a python list, printing its shape, and making shallow copies\n"
   ]
  },
  {
   "cell_type": "markdown",
   "metadata": {},
   "source": [
    "### Array creation\n",
    "Many methods to explore:\n",
    "+ Creating directly from a list or from lists of lists\n",
    "+ arange\n",
    "+ linspace\n",
    "+ random\n",
    "+ eye\n",
    "+ ones\n",
    "+ zeros\n",
    "+ setting the data type\n"
   ]
  },
  {
   "cell_type": "code",
   "execution_count": null,
   "metadata": {},
   "outputs": [],
   "source": [
    "# Array creation examples, starting with np.arange() and demoing reshape"
   ]
  },
  {
   "cell_type": "code",
   "execution_count": null,
   "metadata": {},
   "outputs": [],
   "source": [
    "# linspace (linear space); endpoints are included by default"
   ]
  },
  {
   "cell_type": "code",
   "execution_count": null,
   "metadata": {},
   "outputs": [],
   "source": [
    "# np.random.random (uniform float in [0,1]) and np.random.randint (uniform in the specified range\n",
    "# both require shape tuples)\n"
   ]
  },
  {
   "cell_type": "code",
   "execution_count": null,
   "metadata": {},
   "outputs": [],
   "source": [
    "# np.eye gives an identity matrix, and you can optionally \n",
    "# choose the diagoanl with optional k parameter"
   ]
  },
  {
   "cell_type": "code",
   "execution_count": null,
   "metadata": {},
   "outputs": [],
   "source": [
    "# np.ones and np.zeros"
   ]
  },
  {
   "cell_type": "markdown",
   "metadata": {},
   "source": [
    "### Array dimensions\n",
    "+ 1-d: a row vector\n",
    "+ 2-d: a traditional array with rows indexed first and columns indexed second\n",
    "+ n-d: nested dimensions read from outside in\n",
    "+ Can even have 0-d, which is essentially a scalar, but we will not spend any time on this\n",
    "\n"
   ]
  },
  {
   "cell_type": "code",
   "execution_count": null,
   "metadata": {},
   "outputs": [],
   "source": [
    "# We'll focus on 3d \n"
   ]
  },
  {
   "cell_type": "markdown",
   "metadata": {},
   "source": [
    "### Shapes and reshaping\n",
    "+ We can reshape a NumPy array to any other shape that uses the same number of values\n",
    "+ The shape may be assigned as an l-value and accessed as an r-value\n",
    "    + It is simply an attribute of each NumPy array\n",
    "+ ravel and flatten create 1d versions of arrays\n",
    "    + ravel creates a shallow copy, while flatten creates a deep copy."
   ]
  },
  {
   "cell_type": "code",
   "execution_count": null,
   "metadata": {},
   "outputs": [],
   "source": [
    "# Examples of shape and reshaping, including ravel and flatten \n",
    "# (note the aliasing)\n",
    "import numpy as np\n",
    "v = [4, 19, 12, 93, 45, 16]\n",
    "\n"
   ]
  },
  {
   "cell_type": "markdown",
   "metadata": {},
   "source": [
    "### Indexing and slicing\n",
    "+ Initial intuitions are similar to operations on Python lists\n",
    "    + Watch out though for important differences that will emerge, starting with syntax\n",
    "+ 1d, 2d, and more\n",
    "+ Leaving out a dimension (at the end) gives the entire contents of that dimension"
   ]
  },
  {
   "cell_type": "code",
   "execution_count": null,
   "metadata": {},
   "outputs": [],
   "source": [
    "# Examples of indexing and slicing\n",
    "# 1. 2d array, 2d subarray, 1d subarray\n"
   ]
  },
  {
   "cell_type": "code",
   "execution_count": null,
   "metadata": {},
   "outputs": [],
   "source": [
    "# 2. 3d example down to 2d\n",
    "\n"
   ]
  },
  {
   "cell_type": "markdown",
   "metadata": {},
   "source": [
    "### Views and copying\n",
    "+ Unlike lists, when an array is sliced, the result is a view or shallow copy of the array.\n",
    "+ When the slice is an l-value, the contents of the array are changed!\n",
    "    + We will use this soon to insert a picture within a picture"
   ]
  },
  {
   "cell_type": "code",
   "execution_count": null,
   "metadata": {},
   "outputs": [],
   "source": [
    "# Examples for views and copying\n",
    "# 1. 2d array with subarray assigned to a constant\n"
   ]
  },
  {
   "cell_type": "code",
   "execution_count": null,
   "metadata": {},
   "outputs": [],
   "source": [
    "# 2. 2d array with subarray assigned from another array\n",
    "c = np.random.randint(-100, -90, b.shape)\n",
    "print(\"c\", c)\n",
    "b[:, :] = c[:, :]     # copy all of c into all of b\n",
    "\n"
   ]
  },
  {
   "cell_type": "code",
   "execution_count": null,
   "metadata": {},
   "outputs": [],
   "source": [
    "# 3. 2d array with non-continguous assignment\n",
    "a = np.ones((5,5))\n"
   ]
  },
  {
   "cell_type": "code",
   "execution_count": null,
   "metadata": {},
   "outputs": [],
   "source": [
    "# 4. types and d-types\n",
    "print(a.dtype)\n",
    "print(type(a))"
   ]
  },
  {
   "cell_type": "markdown",
   "metadata": {},
   "source": [
    "### Arithmetic operators applied to arrays\n",
    "+ Addition, subtraction, multiplication, etc.\n",
    "    + Note that multiplication is component-wise, rather than standard matrix multiplication\n",
    "    + Achieve matrix multiplication with 'dot' method\n",
    "+ Operators require compatible dimensions.  For example\n",
    "    + A scalar is compatible with any array\n",
    "    + Arrays of the same dimensions are compatible \n",
    "+ A vector and a 2d array may be added if the array has the same number of columns as the length of the vector.\n",
    "    + This is an initial example of NumPy \"broadcast rules\", which we will study in more detail in Lecture 2"
   ]
  },
  {
   "cell_type": "code",
   "execution_count": null,
   "metadata": {},
   "outputs": [],
   "source": [
    "# 1. Addition, subtraction, component-wise multiplication\n",
    "a = np.arange(10).reshape(2,5)\n",
    "b = np.random.randint(0,100, (2,5))\n"
   ]
  },
  {
   "cell_type": "code",
   "execution_count": null,
   "metadata": {},
   "outputs": [],
   "source": [
    "# 2. Matrix multiplication as a dot product\n",
    "print(np.dot(a, b.T))  # 2x5 times 5x2 -> 2x2\n",
    "print(a @ b.T)"
   ]
  },
  {
   "cell_type": "code",
   "execution_count": null,
   "metadata": {},
   "outputs": [],
   "source": [
    "# 3. Vector added to 2d array"
   ]
  },
  {
   "cell_type": "markdown",
   "metadata": {},
   "source": [
    "### Universal functions - Applied to entire array\n",
    "+ We'll look at just a few important examples (of many):\n",
    "    + Average, dot, max, sum, cumsum\n",
    "+ Can specify the axis along which the function is applied\n",
    "+ Some functions, like argmax, give results that are defined in terms of the 1d, raveled version of the array!"
   ]
  },
  {
   "cell_type": "code",
   "execution_count": null,
   "metadata": {},
   "outputs": [],
   "source": [
    "# Universal function examples\n",
    "# 1. Max, average, sum\n",
    "print(b)\n"
   ]
  },
  {
   "cell_type": "code",
   "execution_count": null,
   "metadata": {},
   "outputs": [],
   "source": [
    "# 2. Operations applied along an axis, e.g. max in each row"
   ]
  },
  {
   "cell_type": "code",
   "execution_count": null,
   "metadata": {},
   "outputs": [],
   "source": [
    "# 3. Cumulative summations along an axis\n",
    "# As above..."
   ]
  },
  {
   "cell_type": "code",
   "execution_count": null,
   "metadata": {},
   "outputs": [],
   "source": [
    "# 4. Cumulative summation and ravel and reshape\n"
   ]
  },
  {
   "cell_type": "code",
   "execution_count": null,
   "metadata": {},
   "outputs": [],
   "source": [
    "# 5. Use of unravel_index tells where i-th entry will be in an array\n",
    "#. Goal:  what are the indices of the max value of a?\n",
    "a = np.random.randint(0, 100, (4,6))\n",
    "print(a)\n",
    "print(np.max(a))\n",
    "print(np.argmax(a))  # gives it in unraveled version\n",
    "i = np.argmax(a)\n",
    "print(np.unravel_index(i, a.shape))   # interpret i in the shape of a\n",
    "\n"
   ]
  },
  {
   "cell_type": "markdown",
   "metadata": {},
   "source": [
    "### Combining and splitting arrays\n",
    "+ concatenate:\n",
    "    + Give tuple of arrays and specify axis along which to combine\n",
    "    + Arrays dimensions must match exactly except along the axis\n",
    "+ Split using indices\n",
    "+ We'll look at example of combining 2d arrays into another 2d array, but also extending to 3d using the stack method\n",
    "    + Useful for splitting and combining images"
   ]
  },
  {
   "cell_type": "code",
   "execution_count": null,
   "metadata": {},
   "outputs": [],
   "source": [
    "# Concatenate two dimensional arrays\n",
    "a = np.arange(10).reshape(2,5)\n",
    "b = np.arange(90,100).reshape(2,5)\n",
    "print(a)\n",
    "print(b)\n",
    "print(np.concatenate((a,b), axis=0))  # stack them up\n",
    "print(np.concatenate((a,b), axis=1))  # iterate in column index\n",
    "c = np.arange(20).reshape(2,10)\n",
    "d = np.concatenate((a,c), axis=1)\n",
    "print(d)\n",
    "# print(np.concatenate((a,c), axis=0))\n"
   ]
  },
  {
   "cell_type": "code",
   "execution_count": null,
   "metadata": {},
   "outputs": [],
   "source": [
    "# Split the result - split returns a Python list of NumPy arrays\n",
    "v = np.split(d, (4, 11, 13), axis=1)   # python array with 4 NumPy arrays\n",
    "print(d)\n",
    "# print(v)\n",
    "print('split 0\\n', v[0])\n",
    "print('split 1\\n', v[1])"
   ]
  },
  {
   "cell_type": "markdown",
   "metadata": {},
   "source": [
    "### NumPy arrays vs. Python lists, revisited\n",
    "+ NumPy arrays are homogeneous; Python lists are heterogeneous\n",
    "+ Slicing a NumPy array creates a view without copying; slicing a Python list creates a new list\n",
    "+ Many functional and numeric operations have been created for NumPy arrays"
   ]
  }
 ],
 "metadata": {
  "kernelspec": {
   "display_name": "Python 3 (ipykernel)",
   "language": "python",
   "name": "python3"
  },
  "language_info": {
   "codemirror_mode": {
    "name": "ipython",
    "version": 3
   },
   "file_extension": ".py",
   "mimetype": "text/x-python",
   "name": "python",
   "nbconvert_exporter": "python",
   "pygments_lexer": "ipython3",
   "version": "3.9.18"
  }
 },
 "nbformat": 4,
 "nbformat_minor": 4
}
